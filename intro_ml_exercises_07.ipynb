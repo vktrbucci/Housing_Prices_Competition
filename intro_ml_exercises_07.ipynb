{
 "metadata": {
  "language_info": {
   "codemirror_mode": {
    "name": "ipython",
    "version": 3
   },
   "file_extension": ".py",
   "mimetype": "text/x-python",
   "name": "python",
   "nbconvert_exporter": "python",
   "pygments_lexer": "ipython3",
   "version": "3.6.9-final"
  },
  "orig_nbformat": 2,
  "kernelspec": {
   "name": "python_defaultSpec_1600720051483",
   "display_name": "Python 3.6.9 64-bit ('data-science-basics': virtualenv)"
  }
 },
 "nbformat": 4,
 "nbformat_minor": 2,
 "cells": [
  {
   "source": [
    "# Exercise: Machine Learning Competitions"
   ],
   "cell_type": "markdown",
   "metadata": {}
  },
  {
   "source": [
    "## Introduction\n",
    "Machine learning competitions are a great way to improve your data science skills and measure your progress.<br>\n",
    "<br>\n",
    "In this exercise, you will create and submit predictions for a Kaggle competition. You can then improve your model (e.g. by adding features) to improve and see how you stack up to others taking this micro-course.<br>\n",
    "<br>\n",
    "The steps in this notebook are:<br>\n",
    "<br>\n",
    "Build a Random Forest model with all of your data (X and y)<br>\n",
    "Read in the \"test\" data, which doesn't include values for the target. Predict home values in the test data with your Random Forest model.<br>\n",
    "Submit those predictions to the competition and see your score.<br>\n",
    "<br>\n",
    "Optionally, come back to see if you can improve your model by adding features or changing your model. Then you can resubmit to see how that stacks up on the competition leaderboard."
   ],
   "cell_type": "markdown",
   "metadata": {}
  },
  {
   "source": [
    "## Recap\n",
    "Let's create our model once again, but this time with the Random Forest."
   ],
   "cell_type": "markdown",
   "metadata": {}
  },
  {
   "cell_type": "code",
   "execution_count": 2,
   "metadata": {},
   "outputs": [],
   "source": [
    "# Import libraries\n",
    "import pandas as pd\n",
    "from sklearn.ensemble import RandomForestRegressor\n",
    "from sklearn.metrics import mean_absolute_error\n",
    "\n",
    "# Load Data\n",
    "iowa_data = pd.read_csv('train.csv')\n",
    "\n",
    "# Clean data\n",
    "# Dataset is already cleany\n",
    "\n",
    "# Choose target and features\n",
    "y = iowa_data.SalePrice\n",
    "\n",
    "features = ['LotArea', 'YearBuilt', '1stFlrSF', '2ndFlrSF', 'FullBath', 'BedroomAbvGr', 'TotRmsAbvGrd']\n",
    "X = iowa_data[features]\n",
    "\n",
    "# Split data into train and test data\n",
    "# Train and test data are already in separated files\n"
   ]
  },
  {
   "source": [
    "## Creating a model for the competition\n",
    "Build a Random Forest model and train it on all of X and y."
   ],
   "cell_type": "markdown",
   "metadata": {}
  },
  {
   "cell_type": "code",
   "execution_count": 3,
   "metadata": {},
   "outputs": [
    {
     "output_type": "execute_result",
     "data": {
      "text/plain": "RandomForestRegressor(random_state=1)"
     },
     "metadata": {},
     "execution_count": 3
    }
   ],
   "source": [
    "# Build model\n",
    "rf_model_on_full_data = RandomForestRegressor(random_state=1)\n",
    "\n",
    "# Fit model\n",
    "rf_model_on_full_data.fit(X, y)"
   ]
  },
  {
   "source": [
    "## Make predictions\n",
    "Read the file of \"test\" data and apply your model to make predictions."
   ],
   "cell_type": "markdown",
   "metadata": {}
  },
  {
   "cell_type": "code",
   "execution_count": null,
   "metadata": {},
   "outputs": [],
   "source": [
    "# Load data\n",
    "iowa_test_data = pd.read_csv('test.csv')\n",
    "\n"
   ]
  }
 ]
}